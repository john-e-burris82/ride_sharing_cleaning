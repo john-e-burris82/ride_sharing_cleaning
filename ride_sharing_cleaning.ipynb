{
 "cells": [
  {
   "cell_type": "markdown",
   "id": "prostate-arizona",
   "metadata": {
    "id": "bA5ajAmk7XH6"
   },
   "source": [
    "# Cleaning Data in Python\n",
    "\n",
    "👋 Welcome to your workspace! Here, you can write and run Python code and add text in [Markdown](https://www.markdownguide.org/basic-syntax/). Below, we've imported the datasets from the course _Cleaning Data in Python_ as DataFrames as well as the packages used in the course. This is your sandbox environment: analyze the course datasets further, take notes, or experiment with code!"
   ]
  },
  {
   "cell_type": "code",
   "execution_count": null,
   "id": "cleared-simulation",
   "metadata": {},
   "outputs": [],
   "source": [
    "%%capture\n",
    "# Install fuzzywuzzy\n",
    "!pip install fuzzywuzzy"
   ]
  },
  {
   "cell_type": "code",
   "execution_count": null,
   "id": "2e25fdd8-4d84-45bc-80f0-949917e00a17",
   "metadata": {},
   "outputs": [],
   "source": [
    "# Importing course packages; you can add more too!\n",
    "import pandas as pd\n",
    "import numpy as np\n",
    "import datetime as dt\n",
    "import matplotlib.pyplot as plt\n",
    "import missingno as msno\n",
    "import fuzzywuzzy\n",
    "import recordlinkage \n",
    "\n",
    "# Importing course datasets as DataFrames\n",
    "ride_sharing = pd.read_csv('datasets/ride_sharing_new.csv', index_col = 'Unnamed: 0')\n",
    "airlines = pd.read_csv('datasets/airlines_final.csv',  index_col = 'Unnamed: 0')\n",
    "banking = pd.read_csv('datasets/banking_dirty.csv', index_col = 'Unnamed: 0')\n",
    "restaurants = pd.read_csv('datasets/restaurants_L2.csv', index_col = 'Unnamed: 0')\n",
    "restaurants_new = pd.read_csv('datasets/restaurants_L2_dirty.csv', index_col = 'Unnamed: 0')\n"
   ]
  },
  {
   "cell_type": "code",
   "execution_count": null,
   "id": "079c7628-464c-471b-9867-b684acc232b9",
   "metadata": {},
   "outputs": [
    {
     "name": "stdout",
     "output_type": "stream",
     "text": [
      "<class 'pandas.core.frame.DataFrame'>\n",
      "Int64Index: 25760 entries, 0 to 25759\n",
      "Data columns (total 9 columns):\n",
      " #   Column           Non-Null Count  Dtype \n",
      "---  ------           --------------  ----- \n",
      " 0   duration         25760 non-null  object\n",
      " 1   station_A_id     25760 non-null  int64 \n",
      " 2   station_A_name   25760 non-null  object\n",
      " 3   station_B_id     25760 non-null  int64 \n",
      " 4   station_B_name   25760 non-null  object\n",
      " 5   bike_id          25760 non-null  int64 \n",
      " 6   user_type        25760 non-null  int64 \n",
      " 7   user_birth_year  25760 non-null  int64 \n",
      " 8   user_gender      25760 non-null  object\n",
      "dtypes: int64(5), object(4)\n",
      "memory usage: 2.0+ MB\n"
     ]
    }
   ],
   "source": [
    "# Ride Sharing Data Types and Count of Non-Null Values\n",
    "\n",
    "ride_sharing.info()\n",
    "\n",
    "# Another option to begin exploring the data, uncomment it to check it out\n",
    "\n",
    "# ride_sharing.dtypes"
   ]
  },
  {
   "cell_type": "code",
   "execution_count": null,
   "id": "c6232370-f0cb-4ddf-81f6-4f28edff5b67",
   "metadata": {},
   "outputs": [
    {
     "data": {
      "application/com.datacamp.data-table.v1+json": {
       "is_truncated": false,
       "table": {
        "data": [
         {
          "bike_id": 5480,
          "duration": "12 minutes",
          "index": 0,
          "station_A_id": 81,
          "station_A_name": "Berry St at 4th St",
          "station_B_id": 323,
          "station_B_name": "Broadway at Kearny",
          "user_birth_year": 1959,
          "user_gender": "Male",
          "user_type": 2
         },
         {
          "bike_id": 5193,
          "duration": "24 minutes",
          "index": 1,
          "station_A_id": 3,
          "station_A_name": "Powell St BART Station (Market St at 4th St)",
          "station_B_id": 118,
          "station_B_name": "Eureka Valley Recreation Center",
          "user_birth_year": 1965,
          "user_gender": "Male",
          "user_type": 2
         },
         {
          "bike_id": 3652,
          "duration": "8 minutes",
          "index": 2,
          "station_A_id": 67,
          "station_A_name": "San Francisco Caltrain Station 2  (Townsend St at 4th St)",
          "station_B_id": 23,
          "station_B_name": "The Embarcadero at Steuart St",
          "user_birth_year": 1993,
          "user_gender": "Male",
          "user_type": 3
         },
         {
          "bike_id": 1883,
          "duration": "4 minutes",
          "index": 3,
          "station_A_id": 16,
          "station_A_name": "Steuart St at Market St",
          "station_B_id": 28,
          "station_B_name": "The Embarcadero at Bryant St",
          "user_birth_year": 1979,
          "user_gender": "Male",
          "user_type": 1
         },
         {
          "bike_id": 4626,
          "duration": "11 minutes",
          "index": 4,
          "station_A_id": 22,
          "station_A_name": "Howard St at Beale St",
          "station_B_id": 350,
          "station_B_name": "8th St at Brannan St",
          "user_birth_year": 1994,
          "user_gender": "Male",
          "user_type": 2
         }
        ],
        "schema": {
         "fields": [
          {
           "name": "index",
           "type": "integer"
          },
          {
           "name": "duration",
           "type": "string"
          },
          {
           "name": "station_A_id",
           "type": "integer"
          },
          {
           "name": "station_A_name",
           "type": "string"
          },
          {
           "name": "station_B_id",
           "type": "integer"
          },
          {
           "name": "station_B_name",
           "type": "string"
          },
          {
           "name": "bike_id",
           "type": "integer"
          },
          {
           "name": "user_type",
           "type": "integer"
          },
          {
           "name": "user_birth_year",
           "type": "integer"
          },
          {
           "name": "user_gender",
           "type": "string"
          }
         ],
         "pandas_version": "0.20.0",
         "primaryKey": [
          "index"
         ]
        }
       },
       "total_rows": 5
      },
      "text/html": [
       "<div>\n",
       "<style scoped>\n",
       "    .dataframe tbody tr th:only-of-type {\n",
       "        vertical-align: middle;\n",
       "    }\n",
       "\n",
       "    .dataframe tbody tr th {\n",
       "        vertical-align: top;\n",
       "    }\n",
       "\n",
       "    .dataframe thead th {\n",
       "        text-align: right;\n",
       "    }\n",
       "</style>\n",
       "<table border=\"1\" class=\"dataframe\">\n",
       "  <thead>\n",
       "    <tr style=\"text-align: right;\">\n",
       "      <th></th>\n",
       "      <th>duration</th>\n",
       "      <th>station_A_id</th>\n",
       "      <th>station_A_name</th>\n",
       "      <th>station_B_id</th>\n",
       "      <th>station_B_name</th>\n",
       "      <th>bike_id</th>\n",
       "      <th>user_type</th>\n",
       "      <th>user_birth_year</th>\n",
       "      <th>user_gender</th>\n",
       "    </tr>\n",
       "  </thead>\n",
       "  <tbody>\n",
       "    <tr>\n",
       "      <th>0</th>\n",
       "      <td>12 minutes</td>\n",
       "      <td>81</td>\n",
       "      <td>Berry St at 4th St</td>\n",
       "      <td>323</td>\n",
       "      <td>Broadway at Kearny</td>\n",
       "      <td>5480</td>\n",
       "      <td>2</td>\n",
       "      <td>1959</td>\n",
       "      <td>Male</td>\n",
       "    </tr>\n",
       "    <tr>\n",
       "      <th>1</th>\n",
       "      <td>24 minutes</td>\n",
       "      <td>3</td>\n",
       "      <td>Powell St BART Station (Market St at 4th St)</td>\n",
       "      <td>118</td>\n",
       "      <td>Eureka Valley Recreation Center</td>\n",
       "      <td>5193</td>\n",
       "      <td>2</td>\n",
       "      <td>1965</td>\n",
       "      <td>Male</td>\n",
       "    </tr>\n",
       "    <tr>\n",
       "      <th>2</th>\n",
       "      <td>8 minutes</td>\n",
       "      <td>67</td>\n",
       "      <td>San Francisco Caltrain Station 2  (Townsend St...</td>\n",
       "      <td>23</td>\n",
       "      <td>The Embarcadero at Steuart St</td>\n",
       "      <td>3652</td>\n",
       "      <td>3</td>\n",
       "      <td>1993</td>\n",
       "      <td>Male</td>\n",
       "    </tr>\n",
       "    <tr>\n",
       "      <th>3</th>\n",
       "      <td>4 minutes</td>\n",
       "      <td>16</td>\n",
       "      <td>Steuart St at Market St</td>\n",
       "      <td>28</td>\n",
       "      <td>The Embarcadero at Bryant St</td>\n",
       "      <td>1883</td>\n",
       "      <td>1</td>\n",
       "      <td>1979</td>\n",
       "      <td>Male</td>\n",
       "    </tr>\n",
       "    <tr>\n",
       "      <th>4</th>\n",
       "      <td>11 minutes</td>\n",
       "      <td>22</td>\n",
       "      <td>Howard St at Beale St</td>\n",
       "      <td>350</td>\n",
       "      <td>8th St at Brannan St</td>\n",
       "      <td>4626</td>\n",
       "      <td>2</td>\n",
       "      <td>1994</td>\n",
       "      <td>Male</td>\n",
       "    </tr>\n",
       "  </tbody>\n",
       "</table>\n",
       "</div>"
      ],
      "text/plain": [
       "     duration  station_A_id  \\\n",
       "0  12 minutes            81   \n",
       "1  24 minutes             3   \n",
       "2   8 minutes            67   \n",
       "3   4 minutes            16   \n",
       "4  11 minutes            22   \n",
       "\n",
       "                                      station_A_name  station_B_id  \\\n",
       "0                                 Berry St at 4th St           323   \n",
       "1       Powell St BART Station (Market St at 4th St)           118   \n",
       "2  San Francisco Caltrain Station 2  (Townsend St...            23   \n",
       "3                            Steuart St at Market St            28   \n",
       "4                              Howard St at Beale St           350   \n",
       "\n",
       "                    station_B_name  bike_id  user_type  user_birth_year  \\\n",
       "0               Broadway at Kearny     5480          2             1959   \n",
       "1  Eureka Valley Recreation Center     5193          2             1965   \n",
       "2    The Embarcadero at Steuart St     3652          3             1993   \n",
       "3     The Embarcadero at Bryant St     1883          1             1979   \n",
       "4             8th St at Brannan St     4626          2             1994   \n",
       "\n",
       "  user_gender  \n",
       "0        Male  \n",
       "1        Male  \n",
       "2        Male  \n",
       "3        Male  \n",
       "4        Male  "
      ]
     },
     "execution_count": 64,
     "metadata": {},
     "output_type": "execute_result"
    }
   ],
   "source": [
    "# Get Head of Ride Sharing Data to Ensure it Makes Sense\n",
    "\n",
    "ride_sharing.head(5)"
   ]
  },
  {
   "cell_type": "markdown",
   "id": "01e68200-f2cc-41ab-a3ab-e0166f92c0a8",
   "metadata": {},
   "source": [
    "### Ride Sharing Review\n",
    "\n",
    "After exploring the variable data types with .dtypes and printing out the head of the data, there is a few items that need to be addressed.\n",
    "\n",
    "1. Duration obviously would work better as an integer. Therefore, removing the word minutes and changing it to an int data type is required. We can also rename the column to include (min) in the header, however a well crafted data dictionary should also explain this.\n",
    "2. Station names could be changed to strings but as I researched more, Pandas will generally always store strings as objects. So I will leave this one alone.\n",
    "3. User type needs to be changed to categorical.\n",
    "4. user_birth_year needs to be changed to a date represented by year.\n",
    "5. Gender could be left alone, or it could be changed to categorical with numerical values 0 and 1 representing the values."
   ]
  },
  {
   "cell_type": "code",
   "execution_count": null,
   "id": "dabf47e3-4bbe-48e5-9cdd-15b29d77e13e",
   "metadata": {},
   "outputs": [
    {
     "data": {
      "application/com.datacamp.data-table.v1+json": {
       "is_truncated": false,
       "table": {
        "data": [
         {
          "bike_id": 5480,
          "duration_mins": 12,
          "index": 0,
          "station_A_id": 81,
          "station_A_name": "Berry St at 4th St",
          "station_B_id": 323,
          "station_B_name": "Broadway at Kearny",
          "user_birth_year": 1959,
          "user_gender": "Male",
          "user_type": 2
         }
        ],
        "schema": {
         "fields": [
          {
           "name": "index",
           "type": "integer"
          },
          {
           "name": "duration_mins",
           "type": "integer"
          },
          {
           "name": "station_A_id",
           "type": "integer"
          },
          {
           "name": "station_A_name",
           "type": "string"
          },
          {
           "name": "station_B_id",
           "type": "integer"
          },
          {
           "name": "station_B_name",
           "type": "string"
          },
          {
           "name": "bike_id",
           "type": "integer"
          },
          {
           "name": "user_type",
           "type": "integer"
          },
          {
           "name": "user_birth_year",
           "type": "integer"
          },
          {
           "name": "user_gender",
           "type": "string"
          }
         ],
         "pandas_version": "0.20.0",
         "primaryKey": [
          "index"
         ]
        }
       },
       "total_rows": 1
      },
      "text/html": [
       "<div>\n",
       "<style scoped>\n",
       "    .dataframe tbody tr th:only-of-type {\n",
       "        vertical-align: middle;\n",
       "    }\n",
       "\n",
       "    .dataframe tbody tr th {\n",
       "        vertical-align: top;\n",
       "    }\n",
       "\n",
       "    .dataframe thead th {\n",
       "        text-align: right;\n",
       "    }\n",
       "</style>\n",
       "<table border=\"1\" class=\"dataframe\">\n",
       "  <thead>\n",
       "    <tr style=\"text-align: right;\">\n",
       "      <th></th>\n",
       "      <th>duration_mins</th>\n",
       "      <th>station_A_id</th>\n",
       "      <th>station_A_name</th>\n",
       "      <th>station_B_id</th>\n",
       "      <th>station_B_name</th>\n",
       "      <th>bike_id</th>\n",
       "      <th>user_type</th>\n",
       "      <th>user_birth_year</th>\n",
       "      <th>user_gender</th>\n",
       "    </tr>\n",
       "  </thead>\n",
       "  <tbody>\n",
       "    <tr>\n",
       "      <th>0</th>\n",
       "      <td>12</td>\n",
       "      <td>81</td>\n",
       "      <td>Berry St at 4th St</td>\n",
       "      <td>323</td>\n",
       "      <td>Broadway at Kearny</td>\n",
       "      <td>5480</td>\n",
       "      <td>2</td>\n",
       "      <td>1959</td>\n",
       "      <td>Male</td>\n",
       "    </tr>\n",
       "  </tbody>\n",
       "</table>\n",
       "</div>"
      ],
      "text/plain": [
       "   duration_mins  station_A_id      station_A_name  station_B_id  \\\n",
       "0             12            81  Berry St at 4th St           323   \n",
       "\n",
       "       station_B_name  bike_id  user_type  user_birth_year user_gender  \n",
       "0  Broadway at Kearny     5480          2             1959        Male  "
      ]
     },
     "execution_count": 65,
     "metadata": {},
     "output_type": "execute_result"
    }
   ],
   "source": [
    "#Lets start with duration, stripping minutes and recategorizing as an integer.\n",
    "\n",
    "ride_sharing['duration'] = ride_sharing['duration'].str.strip(' minutes')\n",
    "ride_sharing['duration'] =ride_sharing['duration'].astype('int')\n",
    "\n",
    "# You can also utilize assert to verify that duration is now an integar. It will return false if it is not and return nothing if true. Uncomment to check it out.\n",
    "\n",
    "# assert ride_sharing['duration'].dtype == 'int'\n",
    "\n",
    "ride_sharing.rename(columns = {'duration':'duration_mins'}, inplace = True)\n",
    "\n",
    "ride_sharing.head(1)"
   ]
  },
  {
   "cell_type": "markdown",
   "id": "0930a35a-b6a4-42a4-8ed6-942eae53c4b9",
   "metadata": {},
   "source": [
    "### Changing user_type to categorical\n",
    "\n",
    "With the code below, I have changed the variable 'user_type' to a category. I utilized assert to ensure the change occured. I followed this with .describe(). With the last line of code, I am able to see there are 25,760 data points, 3 unique values, value 2 is the most common with a frequency of 12,972. It tells me on the last line of the output that I am looking at the variable 'user_type' and that infact it is an int64. I know I said that I changed it to a categorical variable; however these are represented by int64 unless you utilize the text categories. Either way, a well drafted data dictionary should explain what each category means such as 1 = registered user, 2 = dependent of registered user, and 3 = unregistered user."
   ]
  },
  {
   "cell_type": "code",
   "execution_count": null,
   "id": "fec6a173-c8c4-4fd3-bc53-e42ebccf4a39",
   "metadata": {},
   "outputs": [
    {
     "data": {
      "text/plain": [
       "2    12972\n",
       "3     6502\n",
       "1     6286\n",
       "Name: user_type, dtype: int64"
      ]
     },
     "execution_count": 66,
     "metadata": {},
     "output_type": "execute_result"
    }
   ],
   "source": [
    "# Lets now change 'user_type' to a category.\n",
    "\n",
    "ride_sharing['user_type'] = ride_sharing['user_type'].astype('category')\n",
    "\n",
    "# Lets use assert to verify\n",
    "assert ride_sharing['user_type'].dtype == 'category'\n",
    "\n",
    "ride_sharing['user_type'].value_counts()\n"
   ]
  },
  {
   "cell_type": "markdown",
   "id": "287c46f6-edb5-4960-9803-68a740c0c35b",
   "metadata": {},
   "source": [
    "### Changing user_birth_year to a Date\n",
    "\n",
    "We will change the varialbe type to a date with a year format. The quickest way to do this is with pd.to_datetime(df['variable']). You can also specify the format. I utilized format='$Y' which unfortunately will add xxxx-01-01 January 1st to every year. To remove this, we need to add .dt.year to strip January 1st off and leave just the year. However, you will find that when you do this, it turns back to an integer. If you want a date, delete .dt.year off the code below, if not just skip this code as it is already an integer. If anyone has any suggestions, let me know in the comment section."
   ]
  },
  {
   "cell_type": "code",
   "execution_count": null,
   "id": "0a57fcde-7f7a-421b-87c6-6e90b18a6445",
   "metadata": {},
   "outputs": [
    {
     "data": {
      "application/com.datacamp.data-table.v1+json": {
       "is_truncated": false,
       "table": {
        "data": [
         {
          "bike_id": 5480,
          "duration_mins": 12,
          "index": 0,
          "station_A_id": 81,
          "station_A_name": "Berry St at 4th St",
          "station_B_id": 323,
          "station_B_name": "Broadway at Kearny",
          "user_birth_year": 1959,
          "user_gender": "Male",
          "user_type": 2
         },
         {
          "bike_id": 5193,
          "duration_mins": 24,
          "index": 1,
          "station_A_id": 3,
          "station_A_name": "Powell St BART Station (Market St at 4th St)",
          "station_B_id": 118,
          "station_B_name": "Eureka Valley Recreation Center",
          "user_birth_year": 1965,
          "user_gender": "Male",
          "user_type": 2
         }
        ],
        "schema": {
         "fields": [
          {
           "name": "index",
           "type": "integer"
          },
          {
           "name": "duration_mins",
           "type": "integer"
          },
          {
           "name": "station_A_id",
           "type": "integer"
          },
          {
           "name": "station_A_name",
           "type": "string"
          },
          {
           "name": "station_B_id",
           "type": "integer"
          },
          {
           "name": "station_B_name",
           "type": "string"
          },
          {
           "name": "bike_id",
           "type": "integer"
          },
          {
           "constraints": {
            "enum": [
             1,
             2,
             3
            ]
           },
           "name": "user_type",
           "ordered": false,
           "type": "any"
          },
          {
           "name": "user_birth_year",
           "type": "integer"
          },
          {
           "name": "user_gender",
           "type": "string"
          }
         ],
         "pandas_version": "0.20.0",
         "primaryKey": [
          "index"
         ]
        }
       },
       "total_rows": 2
      },
      "text/html": [
       "<div>\n",
       "<style scoped>\n",
       "    .dataframe tbody tr th:only-of-type {\n",
       "        vertical-align: middle;\n",
       "    }\n",
       "\n",
       "    .dataframe tbody tr th {\n",
       "        vertical-align: top;\n",
       "    }\n",
       "\n",
       "    .dataframe thead th {\n",
       "        text-align: right;\n",
       "    }\n",
       "</style>\n",
       "<table border=\"1\" class=\"dataframe\">\n",
       "  <thead>\n",
       "    <tr style=\"text-align: right;\">\n",
       "      <th></th>\n",
       "      <th>duration_mins</th>\n",
       "      <th>station_A_id</th>\n",
       "      <th>station_A_name</th>\n",
       "      <th>station_B_id</th>\n",
       "      <th>station_B_name</th>\n",
       "      <th>bike_id</th>\n",
       "      <th>user_type</th>\n",
       "      <th>user_birth_year</th>\n",
       "      <th>user_gender</th>\n",
       "    </tr>\n",
       "  </thead>\n",
       "  <tbody>\n",
       "    <tr>\n",
       "      <th>0</th>\n",
       "      <td>12</td>\n",
       "      <td>81</td>\n",
       "      <td>Berry St at 4th St</td>\n",
       "      <td>323</td>\n",
       "      <td>Broadway at Kearny</td>\n",
       "      <td>5480</td>\n",
       "      <td>2</td>\n",
       "      <td>1959</td>\n",
       "      <td>Male</td>\n",
       "    </tr>\n",
       "    <tr>\n",
       "      <th>1</th>\n",
       "      <td>24</td>\n",
       "      <td>3</td>\n",
       "      <td>Powell St BART Station (Market St at 4th St)</td>\n",
       "      <td>118</td>\n",
       "      <td>Eureka Valley Recreation Center</td>\n",
       "      <td>5193</td>\n",
       "      <td>2</td>\n",
       "      <td>1965</td>\n",
       "      <td>Male</td>\n",
       "    </tr>\n",
       "  </tbody>\n",
       "</table>\n",
       "</div>"
      ],
      "text/plain": [
       "   duration_mins  station_A_id                                station_A_name  \\\n",
       "0             12            81                            Berry St at 4th St   \n",
       "1             24             3  Powell St BART Station (Market St at 4th St)   \n",
       "\n",
       "   station_B_id                   station_B_name  bike_id user_type  \\\n",
       "0           323               Broadway at Kearny     5480         2   \n",
       "1           118  Eureka Valley Recreation Center     5193         2   \n",
       "\n",
       "   user_birth_year user_gender  \n",
       "0             1959        Male  \n",
       "1             1965        Male  "
      ]
     },
     "execution_count": 67,
     "metadata": {},
     "output_type": "execute_result"
    }
   ],
   "source": [
    "# We now can change the variable type.\n",
    "ride_sharing['user_birth_year'] = pd.to_datetime(ride_sharing['user_birth_year'], format='%Y').dt.year\n",
    "\n",
    "# Check it out\n",
    "ride_sharing.head(2)"
   ]
  },
  {
   "cell_type": "markdown",
   "id": "dfaf25a2-6e57-4bdd-aab1-aa57b9507353",
   "metadata": {},
   "source": [
    "### Factorizing user_gender\n",
    "\n",
    "The first thing I like to do prior to factorizing is to get a good count of each text category. The .value_counts() will do this nicely. We will actually use it twice just for a sanity check. What we find is there are 19,382 male users in the data set, 6,027 females, and 351 that classified as other or unlisted. For basic exploratory analysis, one really doesn't need to factorize these; however, most prediction models work better with numerical data."
   ]
  },
  {
   "cell_type": "code",
   "execution_count": null,
   "id": "0be93e61-82e8-4d01-9e7b-b0b22cc3f6c1",
   "metadata": {},
   "outputs": [
    {
     "data": {
      "text/plain": [
       "0    19382\n",
       "1     6027\n",
       "2      351\n",
       "Name: user_gender, dtype: int64"
      ]
     },
     "execution_count": 68,
     "metadata": {},
     "output_type": "execute_result"
    }
   ],
   "source": [
    "#Convert 'user_gender' to a factor \n",
    "ride_sharing['user_gender'].value_counts()\n",
    "ride_sharing['user_gender'] = pd.factorize(ride_sharing['user_gender'])[0]\n",
    "ride_sharing['user_gender'] = ride_sharing['user_gender'].astype('category')\n",
    "ride_sharing['user_gender'].value_counts()"
   ]
  },
  {
   "cell_type": "markdown",
   "id": "edda2639-d806-4336-94e8-788dabe02736",
   "metadata": {},
   "source": [
    "### Removing white space\n",
    "I always like to run the following code to remove any leading and trailing whitespace. This is similar to the trim() function in Excel. We all run into this issue from time to time. So this is actually a good starting point. It is a little advanced and utilizes a lambda function. Not a topic for discussion here."
   ]
  },
  {
   "cell_type": "code",
   "execution_count": null,
   "id": "8c33aef6-fa85-432a-9560-5af6440e2ebe",
   "metadata": {},
   "outputs": [],
   "source": [
    "# Create whitespace trimming function\n",
    "cols = ride_sharing.select_dtypes('object').columns\n",
    "ride_sharing[cols] = ride_sharing[cols].apply(lambda x: x.str.strip())"
   ]
  },
  {
   "cell_type": "markdown",
   "id": "72e26165-3acf-4d72-907a-13c23e273cc9",
   "metadata": {},
   "source": [
    "### Checking for Duplicates\n",
    "\n",
    "The last aspect I like to check prior to beginning deeper exploratory analysis is for duplicates. You could check for out of range dates, random categories that do not belong (in reality we already did this), value consistencies, and other constraints. I will provide two methods. The first will check for exact matches across all columns. The second way will require a little more visual comparison; however, the second method will help to catch things if there are spelling errors or other issues. As this is a rather simple data set, I will stick with the first example, trusting it caught all the duplicates and remove those values. After removing the duplicate rows, which should only remove 4 rows, we will check the data to see if it has 25,756 rows. Success, it does."
   ]
  },
  {
   "cell_type": "code",
   "execution_count": null,
   "id": "52dd0e05-9c0a-4052-b5a1-7ce4263216b6",
   "metadata": {},
   "outputs": [
    {
     "data": {
      "application/com.datacamp.data-table.v1+json": {
       "is_truncated": false,
       "table": {
        "data": [
         {
          "bike_id": 1225,
          "duration_mins": 9,
          "index": 604,
          "station_A_id": 81,
          "station_A_name": "Berry St at 4th St",
          "station_B_id": 81,
          "station_B_name": "Berry St at 4th St",
          "user_birth_year": 1993,
          "user_gender": 0,
          "user_type": 2
         },
         {
          "bike_id": 492,
          "duration_mins": 17,
          "index": 15217,
          "station_A_id": 22,
          "station_A_name": "Howard St at Beale St",
          "station_B_id": 102,
          "station_B_name": "Irwin St at 8th St",
          "user_birth_year": 1961,
          "user_gender": 1,
          "user_type": 3
         },
         {
          "bike_id": 4442,
          "duration_mins": 10,
          "index": 18303,
          "station_A_id": 30,
          "station_A_name": "San Francisco Caltrain (Townsend St at 4th St)",
          "station_B_id": 6,
          "station_B_name": "The Embarcadero at Sansome St",
          "user_birth_year": 1967,
          "user_gender": 0,
          "user_type": 1
         },
         {
          "bike_id": 5034,
          "duration_mins": 4,
          "index": 20170,
          "station_A_id": 21,
          "station_A_name": "Montgomery St BART Station (Market St at 2nd St)",
          "station_B_id": 343,
          "station_B_name": "Bryant St at 2nd St",
          "user_birth_year": 1993,
          "user_gender": 0,
          "user_type": 2
         }
        ],
        "schema": {
         "fields": [
          {
           "name": "index",
           "type": "integer"
          },
          {
           "name": "duration_mins",
           "type": "integer"
          },
          {
           "name": "station_A_id",
           "type": "integer"
          },
          {
           "name": "station_A_name",
           "type": "string"
          },
          {
           "name": "station_B_id",
           "type": "integer"
          },
          {
           "name": "station_B_name",
           "type": "string"
          },
          {
           "name": "bike_id",
           "type": "integer"
          },
          {
           "constraints": {
            "enum": [
             1,
             2,
             3
            ]
           },
           "name": "user_type",
           "ordered": false,
           "type": "any"
          },
          {
           "name": "user_birth_year",
           "type": "integer"
          },
          {
           "constraints": {
            "enum": [
             0,
             1,
             2
            ]
           },
           "name": "user_gender",
           "ordered": false,
           "type": "any"
          }
         ],
         "pandas_version": "0.20.0",
         "primaryKey": [
          "index"
         ]
        }
       },
       "total_rows": 4
      },
      "text/html": [
       "<div>\n",
       "<style scoped>\n",
       "    .dataframe tbody tr th:only-of-type {\n",
       "        vertical-align: middle;\n",
       "    }\n",
       "\n",
       "    .dataframe tbody tr th {\n",
       "        vertical-align: top;\n",
       "    }\n",
       "\n",
       "    .dataframe thead th {\n",
       "        text-align: right;\n",
       "    }\n",
       "</style>\n",
       "<table border=\"1\" class=\"dataframe\">\n",
       "  <thead>\n",
       "    <tr style=\"text-align: right;\">\n",
       "      <th></th>\n",
       "      <th>duration_mins</th>\n",
       "      <th>station_A_id</th>\n",
       "      <th>station_A_name</th>\n",
       "      <th>station_B_id</th>\n",
       "      <th>station_B_name</th>\n",
       "      <th>bike_id</th>\n",
       "      <th>user_type</th>\n",
       "      <th>user_birth_year</th>\n",
       "      <th>user_gender</th>\n",
       "    </tr>\n",
       "  </thead>\n",
       "  <tbody>\n",
       "    <tr>\n",
       "      <th>604</th>\n",
       "      <td>9</td>\n",
       "      <td>81</td>\n",
       "      <td>Berry St at 4th St</td>\n",
       "      <td>81</td>\n",
       "      <td>Berry St at 4th St</td>\n",
       "      <td>1225</td>\n",
       "      <td>2</td>\n",
       "      <td>1993</td>\n",
       "      <td>0</td>\n",
       "    </tr>\n",
       "    <tr>\n",
       "      <th>15217</th>\n",
       "      <td>17</td>\n",
       "      <td>22</td>\n",
       "      <td>Howard St at Beale St</td>\n",
       "      <td>102</td>\n",
       "      <td>Irwin St at 8th St</td>\n",
       "      <td>492</td>\n",
       "      <td>3</td>\n",
       "      <td>1961</td>\n",
       "      <td>1</td>\n",
       "    </tr>\n",
       "    <tr>\n",
       "      <th>18303</th>\n",
       "      <td>10</td>\n",
       "      <td>30</td>\n",
       "      <td>San Francisco Caltrain (Townsend St at 4th St)</td>\n",
       "      <td>6</td>\n",
       "      <td>The Embarcadero at Sansome St</td>\n",
       "      <td>4442</td>\n",
       "      <td>1</td>\n",
       "      <td>1967</td>\n",
       "      <td>0</td>\n",
       "    </tr>\n",
       "    <tr>\n",
       "      <th>20170</th>\n",
       "      <td>4</td>\n",
       "      <td>21</td>\n",
       "      <td>Montgomery St BART Station (Market St at 2nd St)</td>\n",
       "      <td>343</td>\n",
       "      <td>Bryant St at 2nd St</td>\n",
       "      <td>5034</td>\n",
       "      <td>2</td>\n",
       "      <td>1993</td>\n",
       "      <td>0</td>\n",
       "    </tr>\n",
       "  </tbody>\n",
       "</table>\n",
       "</div>"
      ],
      "text/plain": [
       "       duration_mins  station_A_id  \\\n",
       "604                9            81   \n",
       "15217             17            22   \n",
       "18303             10            30   \n",
       "20170              4            21   \n",
       "\n",
       "                                         station_A_name  station_B_id  \\\n",
       "604                                  Berry St at 4th St            81   \n",
       "15217                             Howard St at Beale St           102   \n",
       "18303    San Francisco Caltrain (Townsend St at 4th St)             6   \n",
       "20170  Montgomery St BART Station (Market St at 2nd St)           343   \n",
       "\n",
       "                      station_B_name  bike_id user_type  user_birth_year  \\\n",
       "604               Berry St at 4th St     1225         2             1993   \n",
       "15217             Irwin St at 8th St      492         3             1961   \n",
       "18303  The Embarcadero at Sansome St     4442         1             1967   \n",
       "20170            Bryant St at 2nd St     5034         2             1993   \n",
       "\n",
       "      user_gender  \n",
       "604             0  \n",
       "15217           1  \n",
       "18303           0  \n",
       "20170           0  "
      ]
     },
     "execution_count": 70,
     "metadata": {},
     "output_type": "execute_result"
    }
   ],
   "source": [
    "# Let's check for duplicates that have the same values across all variables\n",
    "\n",
    "duplicates = ride_sharing.duplicated()\n",
    "ride_sharing[duplicates]"
   ]
  },
  {
   "cell_type": "code",
   "execution_count": null,
   "id": "e8e668b9-69bd-405c-a7ff-47c560e56ee6",
   "metadata": {},
   "outputs": [
    {
     "data": {
      "application/com.datacamp.data-table.v1+json": {
       "is_truncated": false,
       "table": {
        "data": [
         {
          "bike_id": 1225,
          "duration_mins": 9,
          "index": 566,
          "station_A_id": 81,
          "station_A_name": "Berry St at 4th St",
          "station_B_id": 81,
          "station_B_name": "Berry St at 4th St",
          "user_birth_year": 1993,
          "user_gender": 0,
          "user_type": 2
         },
         {
          "bike_id": 1225,
          "duration_mins": 9,
          "index": 604,
          "station_A_id": 81,
          "station_A_name": "Berry St at 4th St",
          "station_B_id": 81,
          "station_B_name": "Berry St at 4th St",
          "user_birth_year": 1993,
          "user_gender": 0,
          "user_type": 2
         },
         {
          "bike_id": 5015,
          "duration_mins": 14,
          "index": 5775,
          "station_A_id": 21,
          "station_A_name": "Montgomery St BART Station (Market St at 2nd St)",
          "station_B_id": 52,
          "station_B_name": "McAllister St at Baker St",
          "user_birth_year": 1993,
          "user_gender": 0,
          "user_type": 2
         },
         {
          "bike_id": 4442,
          "duration_mins": 10,
          "index": 7610,
          "station_A_id": 30,
          "station_A_name": "San Francisco Caltrain (Townsend St at 4th St)",
          "station_B_id": 6,
          "station_B_name": "The Embarcadero at Sansome St",
          "user_birth_year": 1967,
          "user_gender": 0,
          "user_type": 1
         },
         {
          "bike_id": 492,
          "duration_mins": 17,
          "index": 9696,
          "station_A_id": 22,
          "station_A_name": "Howard St at Beale St",
          "station_B_id": 102,
          "station_B_name": "Irwin St at 8th St",
          "user_birth_year": 1961,
          "user_gender": 1,
          "user_type": 3
         },
         {
          "bike_id": 5034,
          "duration_mins": 4,
          "index": 9724,
          "station_A_id": 21,
          "station_A_name": "Montgomery St BART Station (Market St at 2nd St)",
          "station_B_id": 343,
          "station_B_name": "Bryant St at 2nd St",
          "user_birth_year": 1993,
          "user_gender": 0,
          "user_type": 2
         },
         {
          "bike_id": 5015,
          "duration_mins": 14,
          "index": 11562,
          "station_A_id": 21,
          "station_A_name": "Montgomery St BART Station (Market St at 2nd St)",
          "station_B_id": 52,
          "station_B_name": "McAllister St at Baker St",
          "user_birth_year": 1993,
          "user_gender": 1,
          "user_type": 2
         },
         {
          "bike_id": 492,
          "duration_mins": 17,
          "index": 15217,
          "station_A_id": 22,
          "station_A_name": "Howard St at Beale St",
          "station_B_id": 102,
          "station_B_name": "Irwin St at 8th St",
          "user_birth_year": 1961,
          "user_gender": 1,
          "user_type": 3
         },
         {
          "bike_id": 4442,
          "duration_mins": 10,
          "index": 18303,
          "station_A_id": 30,
          "station_A_name": "San Francisco Caltrain (Townsend St at 4th St)",
          "station_B_id": 6,
          "station_B_name": "The Embarcadero at Sansome St",
          "user_birth_year": 1967,
          "user_gender": 0,
          "user_type": 1
         },
         {
          "bike_id": 4733,
          "duration_mins": 9,
          "index": 18499,
          "station_A_id": 15,
          "station_A_name": "San Francisco Ferry Building (Harry Bridges Plaza)",
          "station_B_id": 81,
          "station_B_name": "Berry St at 4th St",
          "user_birth_year": 1984,
          "user_gender": 0,
          "user_type": 3
         },
         {
          "bike_id": 5034,
          "duration_mins": 4,
          "index": 20170,
          "station_A_id": 21,
          "station_A_name": "Montgomery St BART Station (Market St at 2nd St)",
          "station_B_id": 343,
          "station_B_name": "Bryant St at 2nd St",
          "user_birth_year": 1993,
          "user_gender": 0,
          "user_type": 2
         },
         {
          "bike_id": 4733,
          "duration_mins": 9,
          "index": 23293,
          "station_A_id": 15,
          "station_A_name": "San Francisco Ferry Building (Harry Bridges Plaza)",
          "station_B_id": 81,
          "station_B_name": "Berry St at 4th St",
          "user_birth_year": 1984,
          "user_gender": 1,
          "user_type": 3
         }
        ],
        "schema": {
         "fields": [
          {
           "name": "index",
           "type": "integer"
          },
          {
           "name": "duration_mins",
           "type": "integer"
          },
          {
           "name": "station_A_id",
           "type": "integer"
          },
          {
           "name": "station_A_name",
           "type": "string"
          },
          {
           "name": "station_B_id",
           "type": "integer"
          },
          {
           "name": "station_B_name",
           "type": "string"
          },
          {
           "name": "bike_id",
           "type": "integer"
          },
          {
           "constraints": {
            "enum": [
             1,
             2,
             3
            ]
           },
           "name": "user_type",
           "ordered": false,
           "type": "any"
          },
          {
           "name": "user_birth_year",
           "type": "integer"
          },
          {
           "constraints": {
            "enum": [
             0,
             1,
             2
            ]
           },
           "name": "user_gender",
           "ordered": false,
           "type": "any"
          }
         ],
         "pandas_version": "0.20.0",
         "primaryKey": [
          "index"
         ]
        }
       },
       "total_rows": 12
      },
      "text/html": [
       "<div>\n",
       "<style scoped>\n",
       "    .dataframe tbody tr th:only-of-type {\n",
       "        vertical-align: middle;\n",
       "    }\n",
       "\n",
       "    .dataframe tbody tr th {\n",
       "        vertical-align: top;\n",
       "    }\n",
       "\n",
       "    .dataframe thead th {\n",
       "        text-align: right;\n",
       "    }\n",
       "</style>\n",
       "<table border=\"1\" class=\"dataframe\">\n",
       "  <thead>\n",
       "    <tr style=\"text-align: right;\">\n",
       "      <th></th>\n",
       "      <th>duration_mins</th>\n",
       "      <th>station_A_id</th>\n",
       "      <th>station_A_name</th>\n",
       "      <th>station_B_id</th>\n",
       "      <th>station_B_name</th>\n",
       "      <th>bike_id</th>\n",
       "      <th>user_type</th>\n",
       "      <th>user_birth_year</th>\n",
       "      <th>user_gender</th>\n",
       "    </tr>\n",
       "  </thead>\n",
       "  <tbody>\n",
       "    <tr>\n",
       "      <th>566</th>\n",
       "      <td>9</td>\n",
       "      <td>81</td>\n",
       "      <td>Berry St at 4th St</td>\n",
       "      <td>81</td>\n",
       "      <td>Berry St at 4th St</td>\n",
       "      <td>1225</td>\n",
       "      <td>2</td>\n",
       "      <td>1993</td>\n",
       "      <td>0</td>\n",
       "    </tr>\n",
       "    <tr>\n",
       "      <th>604</th>\n",
       "      <td>9</td>\n",
       "      <td>81</td>\n",
       "      <td>Berry St at 4th St</td>\n",
       "      <td>81</td>\n",
       "      <td>Berry St at 4th St</td>\n",
       "      <td>1225</td>\n",
       "      <td>2</td>\n",
       "      <td>1993</td>\n",
       "      <td>0</td>\n",
       "    </tr>\n",
       "    <tr>\n",
       "      <th>5775</th>\n",
       "      <td>14</td>\n",
       "      <td>21</td>\n",
       "      <td>Montgomery St BART Station (Market St at 2nd St)</td>\n",
       "      <td>52</td>\n",
       "      <td>McAllister St at Baker St</td>\n",
       "      <td>5015</td>\n",
       "      <td>2</td>\n",
       "      <td>1993</td>\n",
       "      <td>0</td>\n",
       "    </tr>\n",
       "    <tr>\n",
       "      <th>7610</th>\n",
       "      <td>10</td>\n",
       "      <td>30</td>\n",
       "      <td>San Francisco Caltrain (Townsend St at 4th St)</td>\n",
       "      <td>6</td>\n",
       "      <td>The Embarcadero at Sansome St</td>\n",
       "      <td>4442</td>\n",
       "      <td>1</td>\n",
       "      <td>1967</td>\n",
       "      <td>0</td>\n",
       "    </tr>\n",
       "    <tr>\n",
       "      <th>9696</th>\n",
       "      <td>17</td>\n",
       "      <td>22</td>\n",
       "      <td>Howard St at Beale St</td>\n",
       "      <td>102</td>\n",
       "      <td>Irwin St at 8th St</td>\n",
       "      <td>492</td>\n",
       "      <td>3</td>\n",
       "      <td>1961</td>\n",
       "      <td>1</td>\n",
       "    </tr>\n",
       "    <tr>\n",
       "      <th>9724</th>\n",
       "      <td>4</td>\n",
       "      <td>21</td>\n",
       "      <td>Montgomery St BART Station (Market St at 2nd St)</td>\n",
       "      <td>343</td>\n",
       "      <td>Bryant St at 2nd St</td>\n",
       "      <td>5034</td>\n",
       "      <td>2</td>\n",
       "      <td>1993</td>\n",
       "      <td>0</td>\n",
       "    </tr>\n",
       "    <tr>\n",
       "      <th>11562</th>\n",
       "      <td>14</td>\n",
       "      <td>21</td>\n",
       "      <td>Montgomery St BART Station (Market St at 2nd St)</td>\n",
       "      <td>52</td>\n",
       "      <td>McAllister St at Baker St</td>\n",
       "      <td>5015</td>\n",
       "      <td>2</td>\n",
       "      <td>1993</td>\n",
       "      <td>1</td>\n",
       "    </tr>\n",
       "    <tr>\n",
       "      <th>15217</th>\n",
       "      <td>17</td>\n",
       "      <td>22</td>\n",
       "      <td>Howard St at Beale St</td>\n",
       "      <td>102</td>\n",
       "      <td>Irwin St at 8th St</td>\n",
       "      <td>492</td>\n",
       "      <td>3</td>\n",
       "      <td>1961</td>\n",
       "      <td>1</td>\n",
       "    </tr>\n",
       "    <tr>\n",
       "      <th>18303</th>\n",
       "      <td>10</td>\n",
       "      <td>30</td>\n",
       "      <td>San Francisco Caltrain (Townsend St at 4th St)</td>\n",
       "      <td>6</td>\n",
       "      <td>The Embarcadero at Sansome St</td>\n",
       "      <td>4442</td>\n",
       "      <td>1</td>\n",
       "      <td>1967</td>\n",
       "      <td>0</td>\n",
       "    </tr>\n",
       "    <tr>\n",
       "      <th>18499</th>\n",
       "      <td>9</td>\n",
       "      <td>15</td>\n",
       "      <td>San Francisco Ferry Building (Harry Bridges Pl...</td>\n",
       "      <td>81</td>\n",
       "      <td>Berry St at 4th St</td>\n",
       "      <td>4733</td>\n",
       "      <td>3</td>\n",
       "      <td>1984</td>\n",
       "      <td>0</td>\n",
       "    </tr>\n",
       "    <tr>\n",
       "      <th>20170</th>\n",
       "      <td>4</td>\n",
       "      <td>21</td>\n",
       "      <td>Montgomery St BART Station (Market St at 2nd St)</td>\n",
       "      <td>343</td>\n",
       "      <td>Bryant St at 2nd St</td>\n",
       "      <td>5034</td>\n",
       "      <td>2</td>\n",
       "      <td>1993</td>\n",
       "      <td>0</td>\n",
       "    </tr>\n",
       "    <tr>\n",
       "      <th>23293</th>\n",
       "      <td>9</td>\n",
       "      <td>15</td>\n",
       "      <td>San Francisco Ferry Building (Harry Bridges Pl...</td>\n",
       "      <td>81</td>\n",
       "      <td>Berry St at 4th St</td>\n",
       "      <td>4733</td>\n",
       "      <td>3</td>\n",
       "      <td>1984</td>\n",
       "      <td>1</td>\n",
       "    </tr>\n",
       "  </tbody>\n",
       "</table>\n",
       "</div>"
      ],
      "text/plain": [
       "       duration_mins  station_A_id  \\\n",
       "566                9            81   \n",
       "604                9            81   \n",
       "5775              14            21   \n",
       "7610              10            30   \n",
       "9696              17            22   \n",
       "9724               4            21   \n",
       "11562             14            21   \n",
       "15217             17            22   \n",
       "18303             10            30   \n",
       "18499              9            15   \n",
       "20170              4            21   \n",
       "23293              9            15   \n",
       "\n",
       "                                          station_A_name  station_B_id  \\\n",
       "566                                   Berry St at 4th St            81   \n",
       "604                                   Berry St at 4th St            81   \n",
       "5775    Montgomery St BART Station (Market St at 2nd St)            52   \n",
       "7610      San Francisco Caltrain (Townsend St at 4th St)             6   \n",
       "9696                               Howard St at Beale St           102   \n",
       "9724    Montgomery St BART Station (Market St at 2nd St)           343   \n",
       "11562   Montgomery St BART Station (Market St at 2nd St)            52   \n",
       "15217                              Howard St at Beale St           102   \n",
       "18303     San Francisco Caltrain (Townsend St at 4th St)             6   \n",
       "18499  San Francisco Ferry Building (Harry Bridges Pl...            81   \n",
       "20170   Montgomery St BART Station (Market St at 2nd St)           343   \n",
       "23293  San Francisco Ferry Building (Harry Bridges Pl...            81   \n",
       "\n",
       "                      station_B_name  bike_id user_type  user_birth_year  \\\n",
       "566               Berry St at 4th St     1225         2             1993   \n",
       "604               Berry St at 4th St     1225         2             1993   \n",
       "5775       McAllister St at Baker St     5015         2             1993   \n",
       "7610   The Embarcadero at Sansome St     4442         1             1967   \n",
       "9696              Irwin St at 8th St      492         3             1961   \n",
       "9724             Bryant St at 2nd St     5034         2             1993   \n",
       "11562      McAllister St at Baker St     5015         2             1993   \n",
       "15217             Irwin St at 8th St      492         3             1961   \n",
       "18303  The Embarcadero at Sansome St     4442         1             1967   \n",
       "18499             Berry St at 4th St     4733         3             1984   \n",
       "20170            Bryant St at 2nd St     5034         2             1993   \n",
       "23293             Berry St at 4th St     4733         3             1984   \n",
       "\n",
       "      user_gender  \n",
       "566             0  \n",
       "604             0  \n",
       "5775            0  \n",
       "7610            0  \n",
       "9696            1  \n",
       "9724            0  \n",
       "11562           1  \n",
       "15217           1  \n",
       "18303           0  \n",
       "18499           0  \n",
       "20170           0  \n",
       "23293           1  "
      ]
     },
     "execution_count": 77,
     "metadata": {},
     "output_type": "execute_result"
    }
   ],
   "source": [
    "# Alternative way\n",
    "columns_to_check = ['duration_mins', 'station_A_id', 'station_B_id', 'bike_id', 'user_type', 'user_birth_year'] #These were selected based on the unique combination\n",
    "duplicates_2 = ride_sharing.duplicated(subset = columns_to_check, keep = False)\n",
    "ride_sharing[duplicates_2]"
   ]
  },
  {
   "cell_type": "code",
   "execution_count": null,
   "id": "6e63921e-bc8a-4d1b-bb3a-2864ac48ff34",
   "metadata": {},
   "outputs": [
    {
     "data": {
      "text/plain": [
       "(25756, 9)"
      ]
     },
     "execution_count": 78,
     "metadata": {},
     "output_type": "execute_result"
    }
   ],
   "source": [
    "# Drop duplicates\n",
    "ride_sharing.drop_duplicates(inplace = True)\n",
    "ride_sharing.shape\n",
    "\n"
   ]
  },
  {
   "cell_type": "markdown",
   "id": "aa3c2404-8ca4-451d-ace7-76e74d0b79ee",
   "metadata": {},
   "source": [
    "## Closing Thoughts\n",
    "This is the first of 4 data sets I plan to clean. Each one has it's own unique issues. Hopefully, I learn something along the and help a person or two out as well. As most data aficionados will tell you, spending about 80% of your time cleaning and exploring your data is not uncommon. Take your time. Doing it right will not only help you to answer the question(s) at hand, it will help the actual analysis and model performance."
   ]
  },
  {
   "cell_type": "markdown",
   "id": "b3317e25-17e0-4f71-89fb-18d950b5bd85",
   "metadata": {},
   "source": [
    "### Don't know where to start?\n",
    "\n",
    "Try completing these tasks:\n",
    "- For each DataFrame, inspect the data types of each column and, where needed, clean and convert columns into the correct data type. You should also rename any columns to have more descriptive titles.\n",
    "- Identify and remove all the duplicate rows in `ride_sharing`.\n",
    "- Inspect the unique values of all the columns in `airlines` and clean any inconsistencies.\n",
    "- For the `airlines` DataFrame, create a new column called `International` from `dest_region`, where values representing US regions map to `False` and all other regions map to `True`.\n",
    "- The `banking` DataFrame contains out of date ages. Update the `Age` column using today's date and the `birth_date` column.\n",
    "- Clean the `restaurants_new` DataFrame so that it better matches the categories in the `city` and `type` column of the `restaurants` DataFrame. Afterward, given typos in restaurant names, use record linkage to generate possible pairs of rows between `restaurants` and `restaurants_new` using criteria you think is best.\n"
   ]
  }
 ],
 "metadata": {
  "colab": {
   "name": "Welcome to DataCamp Workspaces.ipynb",
   "provenance": []
  },
  "kernelspec": {
   "display_name": "Python 3 (ipykernel)",
   "language": "python",
   "name": "python3"
  },
  "language_info": {
   "codemirror_mode": {
    "name": "ipython",
    "version": 3
   },
   "file_extension": ".py",
   "mimetype": "text/x-python",
   "name": "python",
   "nbconvert_exporter": "python",
   "pygments_lexer": "ipython3",
   "version": "3.8.10"
  }
 },
 "nbformat": 4,
 "nbformat_minor": 5
}
